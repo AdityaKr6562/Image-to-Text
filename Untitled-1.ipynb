{
 "cells": [
  {
   "cell_type": "code",
   "execution_count": null,
   "metadata": {},
   "outputs": [
    {
     "name": "stdout",
     "output_type": "stream",
     "text": [
      "Press 'Space' to capture an image, or 'Q' to quit.\n"
     ]
    }
   ],
   "source": [
    "import cv2\n",
    "import pytesseract\n",
    "import pyttsx3\n",
    "\n",
    "# Set up Tesseract path if needed\n",
    "# pytesseract.pytesseract.tesseract_cmd = r'path\\to\\tesseract.exe'\n",
    "\n",
    "# Initialize text-to-speech engine\n",
    "engine = pyttsx3.init()\n",
    "\n",
    "# Start video capture\n",
    "cap = cv2.VideoCapture(0)\n",
    "if not cap.isOpened():\n",
    "    print(\"Error: Could not open video stream from camera.\")\n",
    "else:\n",
    "    print(\"Press 'Space' to capture an image, or 'Q' to quit.\")\n",
    "\n",
    "while cap.isOpened():\n",
    "    ret, frame = cap.read()\n",
    "    if not ret:\n",
    "        print(\"Failed to grab frame.\")\n",
    "        break\n",
    "\n",
    "    cv2.imshow(\"Camera\", frame)\n",
    "    \n",
    "    key = cv2.waitKey(1) & 0xFF\n",
    "    if key == ord(' '):  # Press space to capture\n",
    "        # Process captured frame\n",
    "        cv2.imshow(\"Captured Image\", frame)\n",
    "        cap.release()\n",
    "        cv2.destroyAllWindows()\n",
    "        \n",
    "        # Convert image to grayscale for better OCR accuracy\n",
    "        gray_image = cv2.cvtColor(frame, cv2.COLOR_BGR2GRAY)\n",
    "        \n",
    "        # OCR to extract text\n",
    "        text = pytesseract.image_to_string(gray_image)\n",
    "        print(\"Extracted Text:\", text)\n",
    "        \n",
    "        if text.strip():\n",
    "            # Convert extracted text to speech\n",
    "            engine.say(text)\n",
    "            engine.runAndWait()\n",
    "        else:\n",
    "            print(\"No text detected in the image.\")\n",
    "        break\n",
    "    elif key == ord('q'):  # Press Q to quit\n",
    "        break\n",
    "\n",
    "cap.release()\n",
    "cv2.destroyAllWindows()\n"
   ]
  }
 ],
 "metadata": {
  "kernelspec": {
   "display_name": "Python 3",
   "language": "python",
   "name": "python3"
  },
  "language_info": {
   "codemirror_mode": {
    "name": "ipython",
    "version": 3
   },
   "file_extension": ".py",
   "mimetype": "text/x-python",
   "name": "python",
   "nbconvert_exporter": "python",
   "pygments_lexer": "ipython3",
   "version": "3.12.4"
  }
 },
 "nbformat": 4,
 "nbformat_minor": 2
}
